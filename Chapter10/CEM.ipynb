{
  "nbformat": 4,
  "nbformat_minor": 0,
  "metadata": {
    "colab": {
      "name": "CEM.ipynb",
      "provenance": [],
      "collapsed_sections": []
    },
    "kernelspec": {
      "name": "python3",
      "display_name": "Python 3"
    }
  },
  "cells": [
    {
      "cell_type": "markdown",
      "metadata": {
        "id": "MC3wRsaTp72U",
        "colab_type": "text"
      },
      "source": [
        "# Contrastive Explanation Method\n",
        "[Alibi MINST Reference Code](https://github.com/SeldonIO/alibi/blob/524d786c81735ed90da2d2c68851c1145fa1b595/examples/cem_mnist.ipynb)\n",
        "\n",
        "Copyright 2020, Denis Rothman, MIT License. Added training options form and auto-encoder options form. Added Alibi installation.\n"
      ]
    },
    {
      "cell_type": "code",
      "metadata": {
        "id": "kswjdYmE0qLB",
        "colab_type": "code",
        "colab": {}
      },
      "source": [
        "#@title Install Alibi\n",
        "try:\n",
        "  import alibi\n",
        "except:\n",
        "  !pip install alibi"
      ],
      "execution_count": 0,
      "outputs": []
    },
    {
      "cell_type": "code",
      "metadata": {
        "id": "fjZG7JJlc6fc",
        "colab_type": "code",
        "colab": {}
      },
      "source": [
        "#@title Import modules\n",
        "import tensorflow as tf\n",
        "tf.logging.set_verbosity(tf.logging.ERROR)  # suppress deprecation messages\n",
        "from tensorflow.keras import backend as K\n",
        "from tensorflow.keras.layers import Conv2D, Dense, Dropout, Flatten, MaxPooling2D, Input, UpSampling2D\n",
        "from tensorflow.keras.models import Model, load_model\n",
        "from tensorflow.keras.utils import to_categorical\n",
        "\n",
        "import matplotlib\n",
        "import matplotlib.pyplot as plt\n",
        "import numpy as np\n",
        "import os\n",
        "from time import time\n",
        "from alibi.explainers import CEM"
      ],
      "execution_count": 0,
      "outputs": []
    },
    {
      "cell_type": "code",
      "metadata": {
        "id": "U5aDORjneqaq",
        "colab_type": "code",
        "outputId": "5e30fb93-6e49-40bd-be46-a23263a63557",
        "colab": {
          "base_uri": "https://localhost:8080/",
          "height": 282
        }
      },
      "source": [
        "#@title Load and prepare MINST Data\n",
        "(x_train, y_train), (x_test, y_test) = tf.keras.datasets.mnist.load_data()\n",
        "print('x_train shape:', x_train.shape, 'y_train shape:', y_train.shape)\n",
        "plt.gray()\n",
        "plt.imshow(x_test[15]);"
      ],
      "execution_count": 62,
      "outputs": [
        {
          "output_type": "stream",
          "text": [
            "x_train shape: (60000, 28, 28) y_train shape: (60000,)\n"
          ],
          "name": "stdout"
        },
        {
          "output_type": "display_data",
          "data": {
            "image/png": "[encoded data removed]",
            "text/plain": [
              "<Figure size 432x288 with 1 Axes>"
            ]
          },
          "metadata": {
            "tags": []
          }
        }
      ]
    },
    {
      "cell_type": "code",
      "metadata": {
        "id": "oM4_K-DMjkl-",
        "colab_type": "code",
        "outputId": "71693b91-3251-406c-e3d2-13ec50fe1359",
        "colab": {
          "base_uri": "https://localhost:8080/",
          "height": 1000
        }
      },
      "source": [
        "#@title Preparing data: scaling the data\n",
        "x_train = x_train.astype('float32') / 255\n",
        "x_test = x_test.astype('float32') / 255\n",
        "print(x_test[1])"
      ],
      "execution_count": 63,
      "outputs": [
        {
          "output_type": "stream",
          "text": [
            "[[0.         0.         0.         0.         0.         0.\n",
            "  0.         0.         0.         0.         0.         0.\n",
            "  0.         0.         0.         0.         0.         0.\n",
            "  0.         0.         0.         0.         0.         0.\n",
            "  0.         0.         0.         0.        ]\n",
            " [0.         0.         0.         0.         0.         0.\n",
            "  0.         0.         0.         0.         0.         0.\n",
            "  0.         0.         0.         0.         0.         0.\n",
            "  0.         0.         0.         0.         0.         0.\n",
            "  0.         0.         0.         0.        ]\n",
            " [0.         0.         0.         0.         0.         0.\n",
            "  0.         0.         0.         0.         0.         0.\n",
            "  0.         0.         0.         0.         0.         0.\n",
            "  0.         0.         0.         0.         0.         0.\n",
            "  0.         0.         0.         0.        ]\n",
            " [0.         0.         0.         0.         0.         0.\n",
            "  0.         0.         0.         0.         0.45490196 0.49019608\n",
            "  0.67058825 1.         1.         0.5882353  0.3647059  0.\n",
            "  0.         0.         0.         0.         0.         0.\n",
            "  0.         0.         0.         0.        ]\n",
            " [0.         0.         0.         0.         0.         0.\n",
            "  0.         0.         0.         0.6627451  0.99215686 0.99215686\n",
            "  0.99215686 0.99215686 0.99215686 0.99215686 0.85490197 0.11764706\n",
            "  0.         0.         0.         0.         0.         0.\n",
            "  0.         0.         0.         0.        ]\n",
            " [0.         0.         0.         0.         0.         0.\n",
            "  0.         0.         0.6627451  0.99215686 0.99215686 0.99215686\n",
            "  0.8352941  0.5568628  0.6901961  0.99215686 0.99215686 0.47843137\n",
            "  0.         0.         0.         0.         0.         0.\n",
            "  0.         0.         0.         0.        ]\n",
            " [0.         0.         0.         0.         0.         0.\n",
            "  0.         0.20392157 0.98039216 0.99215686 0.8235294  0.1254902\n",
            "  0.04705882 0.         0.02352941 0.80784315 0.99215686 0.54901963\n",
            "  0.         0.         0.         0.         0.         0.\n",
            "  0.         0.         0.         0.        ]\n",
            " [0.         0.         0.         0.         0.         0.\n",
            "  0.         0.3019608  0.9843137  0.8235294  0.09803922 0.\n",
            "  0.         0.         0.47843137 0.972549   0.99215686 0.25490198\n",
            "  0.         0.         0.         0.         0.         0.\n",
            "  0.         0.         0.         0.        ]\n",
            " [0.         0.         0.         0.         0.         0.\n",
            "  0.         0.         0.12156863 0.07058824 0.         0.\n",
            "  0.         0.         0.81960785 0.99215686 0.99215686 0.25490198\n",
            "  0.         0.         0.         0.         0.         0.\n",
            "  0.         0.         0.         0.        ]\n",
            " [0.         0.         0.         0.         0.         0.\n",
            "  0.         0.         0.         0.         0.         0.\n",
            "  0.         0.45882353 0.96862745 0.99215686 0.7764706  0.03921569\n",
            "  0.         0.         0.         0.         0.         0.\n",
            "  0.         0.         0.         0.        ]\n",
            " [0.         0.         0.         0.         0.         0.\n",
            "  0.         0.         0.         0.         0.         0.\n",
            "  0.29803923 0.96862745 0.99215686 0.90588236 0.24705882 0.\n",
            "  0.         0.         0.         0.         0.         0.\n",
            "  0.         0.         0.         0.        ]\n",
            " [0.         0.         0.         0.         0.         0.\n",
            "  0.         0.         0.         0.         0.         0.\n",
            "  0.5019608  0.99215686 0.99215686 0.5647059  0.         0.\n",
            "  0.         0.         0.         0.         0.         0.\n",
            "  0.         0.         0.         0.        ]\n",
            " [0.         0.         0.         0.         0.         0.\n",
            "  0.         0.         0.         0.         0.         0.6901961\n",
            "  0.9647059  0.99215686 0.62352943 0.04705882 0.         0.\n",
            "  0.         0.         0.         0.         0.         0.\n",
            "  0.         0.         0.         0.        ]\n",
            " [0.         0.         0.         0.         0.         0.\n",
            "  0.         0.         0.         0.         0.09803922 0.91764706\n",
            "  0.99215686 0.9137255  0.13725491 0.         0.         0.\n",
            "  0.         0.         0.         0.         0.         0.\n",
            "  0.         0.         0.         0.        ]\n",
            " [0.         0.         0.         0.         0.         0.\n",
            "  0.         0.         0.         0.         0.7764706  0.99215686\n",
            "  0.99215686 0.5529412  0.         0.         0.         0.\n",
            "  0.         0.         0.         0.         0.         0.\n",
            "  0.         0.         0.         0.        ]\n",
            " [0.         0.         0.         0.         0.         0.\n",
            "  0.         0.         0.         0.30588236 0.972549   0.99215686\n",
            "  0.7411765  0.04705882 0.         0.         0.         0.\n",
            "  0.         0.         0.         0.         0.         0.\n",
            "  0.         0.         0.         0.        ]\n",
            " [0.         0.         0.         0.         0.         0.\n",
            "  0.         0.         0.07450981 0.78431374 0.99215686 0.99215686\n",
            "  0.5529412  0.         0.         0.         0.         0.\n",
            "  0.         0.         0.         0.         0.         0.\n",
            "  0.         0.         0.         0.        ]\n",
            " [0.         0.         0.         0.         0.         0.\n",
            "  0.         0.         0.5254902  0.99215686 0.99215686 0.6784314\n",
            "  0.04705882 0.         0.         0.         0.         0.\n",
            "  0.         0.         0.         0.         0.         0.\n",
            "  0.         0.         0.         0.        ]\n",
            " [0.         0.         0.         0.         0.         0.\n",
            "  0.         0.         0.972549   0.99215686 0.99215686 0.09803922\n",
            "  0.         0.         0.         0.         0.         0.\n",
            "  0.         0.         0.         0.         0.         0.\n",
            "  0.         0.         0.         0.        ]\n",
            " [0.         0.         0.         0.         0.         0.\n",
            "  0.         0.         0.972549   0.99215686 0.99215686 0.16862746\n",
            "  0.07843138 0.07843138 0.07843138 0.07843138 0.01960784 0.\n",
            "  0.01960784 0.07843138 0.07843138 0.14509805 0.5882353  0.5882353\n",
            "  0.5882353  0.5764706  0.03921569 0.        ]\n",
            " [0.         0.         0.         0.         0.         0.\n",
            "  0.         0.         0.972549   0.99215686 0.99215686 0.99215686\n",
            "  0.99215686 0.99215686 0.99215686 0.99215686 0.65882355 0.56078434\n",
            "  0.6509804  0.99215686 0.99215686 0.99215686 0.99215686 0.99215686\n",
            "  0.99215686 0.99215686 0.48235294 0.        ]\n",
            " [0.         0.         0.         0.         0.         0.\n",
            "  0.         0.         0.68235296 0.99215686 0.99215686 0.99215686\n",
            "  0.99215686 0.99215686 0.99215686 0.99215686 0.99215686 0.99215686\n",
            "  0.99215686 0.99215686 0.9764706  0.96862745 0.96862745 0.6627451\n",
            "  0.45882353 0.45882353 0.22352941 0.        ]\n",
            " [0.         0.         0.         0.         0.         0.\n",
            "  0.         0.         0.         0.4627451  0.48235294 0.48235294\n",
            "  0.48235294 0.6509804  0.99215686 0.99215686 0.99215686 0.60784316\n",
            "  0.48235294 0.48235294 0.16078432 0.         0.         0.\n",
            "  0.         0.         0.         0.        ]\n",
            " [0.         0.         0.         0.         0.         0.\n",
            "  0.         0.         0.         0.         0.         0.\n",
            "  0.         0.         0.         0.         0.         0.\n",
            "  0.         0.         0.         0.         0.         0.\n",
            "  0.         0.         0.         0.        ]\n",
            " [0.         0.         0.         0.         0.         0.\n",
            "  0.         0.         0.         0.         0.         0.\n",
            "  0.         0.         0.         0.         0.         0.\n",
            "  0.         0.         0.         0.         0.         0.\n",
            "  0.         0.         0.         0.        ]\n",
            " [0.         0.         0.         0.         0.         0.\n",
            "  0.         0.         0.         0.         0.         0.\n",
            "  0.         0.         0.         0.         0.         0.\n",
            "  0.         0.         0.         0.         0.         0.\n",
            "  0.         0.         0.         0.        ]\n",
            " [0.         0.         0.         0.         0.         0.\n",
            "  0.         0.         0.         0.         0.         0.\n",
            "  0.         0.         0.         0.         0.         0.\n",
            "  0.         0.         0.         0.         0.         0.\n",
            "  0.         0.         0.         0.        ]\n",
            " [0.         0.         0.         0.         0.         0.\n",
            "  0.         0.         0.         0.         0.         0.\n",
            "  0.         0.         0.         0.         0.         0.\n",
            "  0.         0.         0.         0.         0.         0.\n",
            "  0.         0.         0.         0.        ]]\n"
          ],
          "name": "stdout"
        }
      ]
    },
    {
      "cell_type": "code",
      "metadata": {
        "id": "tqC3ByAsmY5m",
        "colab_type": "code",
        "outputId": "0d5403bc-4475-4ed6-d6bd-1152f576c840",
        "colab": {
          "base_uri": "https://localhost:8080/",
          "height": 51
        }
      },
      "source": [
        "#@title Preparing data: shaping the data\n",
        "print(\"Initial Shape\",x_test.shape)\n",
        "x_train = np.reshape(x_train, x_train.shape + (1,))\n",
        "x_test = np.reshape(x_test, x_test.shape + (1,))\n",
        "print('x_train shape:', x_train.shape, 'x_test shape:', x_test.shape)"
      ],
      "execution_count": 64,
      "outputs": [
        {
          "output_type": "stream",
          "text": [
            "Initial Shape (10000, 28, 28)\n",
            "x_train shape: (60000, 28, 28, 1) x_test shape: (10000, 28, 28, 1)\n"
          ],
          "name": "stdout"
        }
      ]
    },
    {
      "cell_type": "code",
      "metadata": {
        "id": "IE5uL7p-itjS",
        "colab_type": "code",
        "outputId": "5aac06ad-e387-434a-d5fd-ad26b575d14b",
        "colab": {
          "base_uri": "https://localhost:8080/",
          "height": 34
        }
      },
      "source": [
        "#@title Preparing data: categorizing the data\n",
        "y_train = to_categorical(y_train)\n",
        "y_test = to_categorical(y_test)\n",
        "print('y_train shape:', y_train.shape, 'y_test shape:', y_test.shape)\n",
        "\n",
        "xmin, xmax = -.5, .5\n",
        "x_train = ((x_train - x_train.min()) / (x_train.max() - x_train.min())) * (xmax - xmin) + xmin\n",
        "x_test = ((x_test - x_test.min()) / (x_test.max() - x_test.min())) * (xmax - xmin) + xmin"
      ],
      "execution_count": 65,
      "outputs": [
        {
          "output_type": "stream",
          "text": [
            "y_train shape: (60000, 10) y_test shape: (10000, 10)\n"
          ],
          "name": "stdout"
        }
      ]
    },
    {
      "cell_type": "code",
      "metadata": {
        "id": "AHTKZ986xZZu",
        "colab_type": "code",
        "colab": {}
      },
      "source": [
        "#@title Create and train CNN model\n",
        "def cnn_model():\n",
        "    x_in = Input(shape=(28, 28, 1))\n",
        "    x = Conv2D(filters=64, kernel_size=2, padding='same', activation='relu')(x_in)\n",
        "    x = MaxPooling2D(pool_size=2)(x)\n",
        "    x = Dropout(0.3)(x)\n",
        "\n",
        "    x = Conv2D(filters=32, kernel_size=2, padding='same', activation='relu')(x)\n",
        "    x = MaxPooling2D(pool_size=2)(x)\n",
        "    x = Dropout(0.3)(x)\n",
        "\n",
        "    x = Flatten()(x)\n",
        "    x = Dense(256, activation='relu')(x)\n",
        "    x = Dropout(0.5)(x)\n",
        "    x_out = Dense(10, activation='softmax')(x)\n",
        "\n",
        "    cnn = Model(inputs=x_in, outputs=x_out)\n",
        "    cnn.compile(loss='categorical_crossentropy', optimizer='adam', metrics=['accuracy'])\n",
        "\n",
        "    return cnn\n"
      ],
      "execution_count": 0,
      "outputs": []
    },
    {
      "cell_type": "code",
      "metadata": {
        "id": "87u2995Y_bf2",
        "colab_type": "code",
        "colab": {
          "base_uri": "https://localhost:8080/",
          "height": 527
        },
        "outputId": "e3b4eb5f-152d-4fed-e3a0-451cfaa7fa8b"
      },
      "source": [
        "train_cnn = 'yes' #@param [\"yes\",\"no\"]\n",
        "if train_cnn==\"yes\":\n",
        "  cnn = cnn_model()\n",
        "  cnn.summary()\n",
        "  cnn.fit(x_train, y_train, batch_size=64, epochs=3, verbose=0)\n",
        "  cnn.save('mnist_cnn.h5')"
      ],
      "execution_count": 67,
      "outputs": [
        {
          "output_type": "stream",
          "text": [
            "Model: \"model\"\n",
            "_________________________________________________________________\n",
            "Layer (type)                 Output Shape              Param #   \n",
            "=================================================================\n",
            "input_1 (InputLayer)         [(None, 28, 28, 1)]       0         \n",
            "_________________________________________________________________\n",
            "conv2d (Conv2D)              (None, 28, 28, 64)        320       \n",
            "_________________________________________________________________\n",
            "max_pooling2d (MaxPooling2D) (None, 14, 14, 64)        0         \n",
            "_________________________________________________________________\n",
            "dropout (Dropout)            (None, 14, 14, 64)        0         \n",
            "_________________________________________________________________\n",
            "conv2d_1 (Conv2D)            (None, 14, 14, 32)        8224      \n",
            "_________________________________________________________________\n",
            "max_pooling2d_1 (MaxPooling2 (None, 7, 7, 32)          0         \n",
            "_________________________________________________________________\n",
            "dropout_1 (Dropout)          (None, 7, 7, 32)          0         \n",
            "_________________________________________________________________\n",
            "flatten (Flatten)            (None, 1568)              0         \n",
            "_________________________________________________________________\n",
            "dense (Dense)                (None, 256)               401664    \n",
            "_________________________________________________________________\n",
            "dropout_2 (Dropout)          (None, 256)               0         \n",
            "_________________________________________________________________\n",
            "dense_1 (Dense)              (None, 10)                2570      \n",
            "=================================================================\n",
            "Total params: 412,778\n",
            "Trainable params: 412,778\n",
            "Non-trainable params: 0\n",
            "_________________________________________________________________\n"
          ],
          "name": "stdout"
        }
      ]
    },
    {
      "cell_type": "code",
      "metadata": {
        "id": "paAy-Ej8yjKV",
        "colab_type": "code",
        "outputId": "37b64936-f485-4b95-d9e0-caede610e4c6",
        "colab": {
          "base_uri": "https://localhost:8080/",
          "height": 544
        }
      },
      "source": [
        "#@title Load and test accuracy on test dataset\n",
        "cnn = load_model('/content/mnist_cnn.h5')\n",
        "cnn.summary()\n",
        "score = cnn.evaluate(x_test, y_test, verbose=0)\n",
        "print('Test accuracy: ', score[1])"
      ],
      "execution_count": 68,
      "outputs": [
        {
          "output_type": "stream",
          "text": [
            "Model: \"model\"\n",
            "_________________________________________________________________\n",
            "Layer (type)                 Output Shape              Param #   \n",
            "=================================================================\n",
            "input_1 (InputLayer)         [(None, 28, 28, 1)]       0         \n",
            "_________________________________________________________________\n",
            "conv2d (Conv2D)              (None, 28, 28, 64)        320       \n",
            "_________________________________________________________________\n",
            "max_pooling2d (MaxPooling2D) (None, 14, 14, 64)        0         \n",
            "_________________________________________________________________\n",
            "dropout (Dropout)            (None, 14, 14, 64)        0         \n",
            "_________________________________________________________________\n",
            "conv2d_1 (Conv2D)            (None, 14, 14, 32)        8224      \n",
            "_________________________________________________________________\n",
            "max_pooling2d_1 (MaxPooling2 (None, 7, 7, 32)          0         \n",
            "_________________________________________________________________\n",
            "dropout_1 (Dropout)          (None, 7, 7, 32)          0         \n",
            "_________________________________________________________________\n",
            "flatten (Flatten)            (None, 1568)              0         \n",
            "_________________________________________________________________\n",
            "dense (Dense)                (None, 256)               401664    \n",
            "_________________________________________________________________\n",
            "dropout_2 (Dropout)          (None, 256)               0         \n",
            "_________________________________________________________________\n",
            "dense_1 (Dense)              (None, 10)                2570      \n",
            "=================================================================\n",
            "Total params: 412,778\n",
            "Trainable params: 412,778\n",
            "Non-trainable params: 0\n",
            "_________________________________________________________________\n",
            "Test accuracy:  0.9868\n"
          ],
          "name": "stdout"
        }
      ]
    },
    {
      "cell_type": "code",
      "metadata": {
        "id": "huwM2cfj69Uz",
        "colab_type": "code",
        "colab": {}
      },
      "source": [
        "#@title Define and train autoencoder\n",
        "def ae_model():\n",
        "    x_in = Input(shape=(28, 28, 1))\n",
        "    x = Conv2D(16, (3, 3), activation='relu', padding='same')(x_in)\n",
        "    x = Conv2D(16, (3, 3), activation='relu', padding='same')(x)\n",
        "    x = MaxPooling2D((2, 2), padding='same')(x)\n",
        "    encoded = Conv2D(1, (3, 3), activation=None, padding='same')(x)\n",
        "    \n",
        "    x = Conv2D(16, (3, 3), activation='relu', padding='same')(encoded)\n",
        "    x = UpSampling2D((2, 2))(x)\n",
        "    x = Conv2D(16, (3, 3), activation='relu', padding='same')(x)\n",
        "    decoded = Conv2D(1, (3, 3), activation=None, padding='same')(x)\n",
        "\n",
        "    autoencoder = Model(x_in, decoded)\n",
        "    autoencoder.compile(optimizer='adam', loss='mse')\n",
        "    \n",
        "    return autoencoder"
      ],
      "execution_count": 0,
      "outputs": []
    },
    {
      "cell_type": "code",
      "metadata": {
        "id": "DHC3QgGT7Dum",
        "colab_type": "code",
        "colab": {
          "base_uri": "https://localhost:8080/",
          "height": 459
        },
        "outputId": "aeade556-ea9a-478d-8099-e03fdf631f5d"
      },
      "source": [
        "train_auto_encoder = 'yes' #@param [\"yes\",\"no\"]\n",
        "\n",
        "if train_auto_encoder==\"yes\":\n",
        "  ae = ae_model()\n",
        "  ae.summary()\n",
        "  ae.fit(x_train, x_train, batch_size=128, epochs=4, validation_data=(x_test, x_test), verbose=0)\n",
        "  ae.save('mnist_ae.h5', save_format='h5')"
      ],
      "execution_count": 70,
      "outputs": [
        {
          "output_type": "stream",
          "text": [
            "Model: \"model_1\"\n",
            "_________________________________________________________________\n",
            "Layer (type)                 Output Shape              Param #   \n",
            "=================================================================\n",
            "input_2 (InputLayer)         [(None, 28, 28, 1)]       0         \n",
            "_________________________________________________________________\n",
            "conv2d_2 (Conv2D)            (None, 28, 28, 16)        160       \n",
            "_________________________________________________________________\n",
            "conv2d_3 (Conv2D)            (None, 28, 28, 16)        2320      \n",
            "_________________________________________________________________\n",
            "max_pooling2d_2 (MaxPooling2 (None, 14, 14, 16)        0         \n",
            "_________________________________________________________________\n",
            "conv2d_4 (Conv2D)            (None, 14, 14, 1)         145       \n",
            "_________________________________________________________________\n",
            "conv2d_5 (Conv2D)            (None, 14, 14, 16)        160       \n",
            "_________________________________________________________________\n",
            "up_sampling2d (UpSampling2D) (None, 28, 28, 16)        0         \n",
            "_________________________________________________________________\n",
            "conv2d_6 (Conv2D)            (None, 28, 28, 16)        2320      \n",
            "_________________________________________________________________\n",
            "conv2d_7 (Conv2D)            (None, 28, 28, 1)         145       \n",
            "=================================================================\n",
            "Total params: 5,250\n",
            "Trainable params: 5,250\n",
            "Non-trainable params: 0\n",
            "_________________________________________________________________\n"
          ],
          "name": "stdout"
        }
      ]
    },
    {
      "cell_type": "code",
      "metadata": {
        "id": "xv3CzfEb7KsN",
        "colab_type": "code",
        "outputId": "90d0420d-24f3-4045-d5c0-c8c63877dddf",
        "colab": {
          "base_uri": "https://localhost:8080/",
          "height": 694
        }
      },
      "source": [
        "#@title Compare original with decoded images\n",
        "ae = load_model('/content/mnist_ae.h5')\n",
        "ae.summary()\n",
        "decoded_imgs = ae.predict(x_test)\n",
        "n = 5\n",
        "plt.figure(figsize=(20, 4))\n",
        "for i in range(1, n+1):\n",
        "    # display original\n",
        "    ax = plt.subplot(2, n, i)\n",
        "    plt.imshow(x_test[i].reshape(28, 28))\n",
        "    ax.get_xaxis().set_visible(False)\n",
        "    ax.get_yaxis().set_visible(False)\n",
        "    # display reconstruction\n",
        "    ax = plt.subplot(2, n, i + n)\n",
        "    plt.imshow(decoded_imgs[i].reshape(28, 28))\n",
        "    ax.get_xaxis().set_visible(False)\n",
        "    ax.get_yaxis().set_visible(False)\n",
        "plt.show()\n"
      ],
      "execution_count": 71,
      "outputs": [
        {
          "output_type": "stream",
          "text": [
            "Model: \"model_1\"\n",
            "_________________________________________________________________\n",
            "Layer (type)                 Output Shape              Param #   \n",
            "=================================================================\n",
            "input_2 (InputLayer)         [(None, 28, 28, 1)]       0         \n",
            "_________________________________________________________________\n",
            "conv2d_2 (Conv2D)            (None, 28, 28, 16)        160       \n",
            "_________________________________________________________________\n",
            "conv2d_3 (Conv2D)            (None, 28, 28, 16)        2320      \n",
            "_________________________________________________________________\n",
            "max_pooling2d_2 (MaxPooling2 (None, 14, 14, 16)        0         \n",
            "_________________________________________________________________\n",
            "conv2d_4 (Conv2D)            (None, 14, 14, 1)         145       \n",
            "_________________________________________________________________\n",
            "conv2d_5 (Conv2D)            (None, 14, 14, 16)        160       \n",
            "_________________________________________________________________\n",
            "up_sampling2d (UpSampling2D) (None, 28, 28, 16)        0         \n",
            "_________________________________________________________________\n",
            "conv2d_6 (Conv2D)            (None, 28, 28, 16)        2320      \n",
            "_________________________________________________________________\n",
            "conv2d_7 (Conv2D)            (None, 28, 28, 1)         145       \n",
            "=================================================================\n",
            "Total params: 5,250\n",
            "Trainable params: 5,250\n",
            "Non-trainable params: 0\n",
            "_________________________________________________________________\n"
          ],
          "name": "stdout"
        },
        {
          "output_type": "display_data",
          "data": {
            "image/png": "[encoded data removed]",
            "text/plain": [
              "<Figure size 1440x288 with 10 Axes>"
            ]
          },
          "metadata": {
            "tags": []
          }
        }
      ]
    },
    {
      "cell_type": "code",
      "metadata": {
        "id": "NZDIm-2_16_1",
        "colab_type": "code",
        "colab": {}
      },
      "source": [
        "#@title Generate contrastive explanation with pertinent negative\n",
        "#Explained instance\n",
        "idx = 15\n",
        "X = x_test[idx].reshape((1,) + x_test[idx].shape)"
      ],
      "execution_count": 0,
      "outputs": []
    },
    {
      "cell_type": "code",
      "metadata": {
        "id": "uEvkauXp2HoQ",
        "colab_type": "code",
        "outputId": "7531eb79-3074-4b25-8f0c-690575b3e6c9",
        "colab": {
          "base_uri": "https://localhost:8080/",
          "height": 265
        }
      },
      "source": [
        "plt.imshow(X.reshape(28, 28));"
      ],
      "execution_count": 73,
      "outputs": [
        {
          "output_type": "display_data",
          "data": {
            "image/png": "[encoded data removed]",
            "text/plain": [
              "<Figure size 432x288 with 1 Axes>"
            ]
          },
          "metadata": {
            "tags": []
          }
        }
      ]
    },
    {
      "cell_type": "code",
      "metadata": {
        "id": "-gWVd3UH2Riu",
        "colab_type": "code",
        "outputId": "7c938cdc-155c-4e1d-e917-02d772d71346",
        "colab": {
          "base_uri": "https://localhost:8080/",
          "height": 34
        }
      },
      "source": [
        "#@title Model Prediction\n",
        "cnn.predict(X).argmax(), cnn.predict(X).max()"
      ],
      "execution_count": 74,
      "outputs": [
        {
          "output_type": "execute_result",
          "data": {
            "text/plain": [
              "(5, 0.9998178)"
            ]
          },
          "metadata": {
            "tags": []
          },
          "execution_count": 74
        }
      ]
    },
    {
      "cell_type": "code",
      "metadata": {
        "id": "elIuLkcU2dyZ",
        "colab_type": "code",
        "colab": {}
      },
      "source": [
        "#@title CEM parameters\n",
        "mode = 'PN'  # 'PN' (pertinent negative) or 'PP' (pertinent positive)\n",
        "shape = (1,) + x_train.shape[1:]  # instance shape\n",
        "kappa = 0.  # minimum difference needed between the prediction probability for the perturbed instance on the\n",
        "            # class predicted by the original instance and the max probability on the other classes \n",
        "            # in order for the first loss term to be minimized\n",
        "beta = .1  # weight of the L1 loss term\n",
        "gamma = 100  # weight of the optional auto-encoder loss term\n",
        "c_init = 1.  # initial weight c of the loss term encouraging to predict a different class (PN) or \n",
        "              # the same class (PP) for the perturbed instance compared to the original instance to be explained\n",
        "c_steps = 10  # nb of updates for c\n",
        "max_iterations = 1000  # nb of iterations per value of c\n",
        "feature_range = (x_train.min(),x_train.max())  # feature range for the perturbed instance\n",
        "clip = (-1000.,1000.)  # gradient clipping\n",
        "lr = 1e-2  # initial learning rate\n",
        "no_info_val = -1. # a value, float or feature-wise, which can be seen as containing no info to make a prediction\n",
        "                  # perturbations towards this value means removing features, and away means adding features\n",
        "                  # for our MNIST images, the background (-0.5) is the least informative, \n",
        "                  # so positive/negative perturbations imply adding/removing features"
      ],
      "execution_count": 0,
      "outputs": []
    },
    {
      "cell_type": "code",
      "metadata": {
        "id": "MM2hQ-ef2j9s",
        "colab_type": "code",
        "colab": {}
      },
      "source": [
        "#@title initialize CEM explainer and explain instance\n",
        "cem = CEM(cnn, mode, shape, kappa=kappa, beta=beta, feature_range=feature_range, \n",
        "          gamma=gamma, ae_model=ae, max_iterations=max_iterations, \n",
        "          c_init=c_init, c_steps=c_steps, learning_rate_init=lr, clip=clip, no_info_val=no_info_val)\n",
        "\n",
        "explanation = cem.explain(X)"
      ],
      "execution_count": 0,
      "outputs": []
    },
    {
      "cell_type": "code",
      "metadata": {
        "id": "qi4hauCb2qaI",
        "colab_type": "code",
        "outputId": "3f07fff7-8bc9-4492-bf8d-0a6d8b941579",
        "colab": {
          "base_uri": "https://localhost:8080/",
          "height": 282
        }
      },
      "source": [
        "#@title Pertinent Negative\n",
        "print('Pertinent negative prediction: {}'.format(explanation.PN_pred))\n",
        "plt.imshow(explanation.PN.reshape(28, 28));"
      ],
      "execution_count": 77,
      "outputs": [
        {
          "output_type": "stream",
          "text": [
            "Pertinent negative prediction: 3\n"
          ],
          "name": "stdout"
        },
        {
          "output_type": "display_data",
          "data": {
            "image/png": "[encoded data removed]",
            "text/plain": [
              "<Figure size 432x288 with 1 Axes>"
            ]
          },
          "metadata": {
            "tags": []
          }
        }
      ]
    },
    {
      "cell_type": "code",
      "metadata": {
        "id": "kUeUvz_x2xxE",
        "colab_type": "code",
        "colab": {}
      },
      "source": [
        "#@title Generate pertinent positive\n",
        "mode = 'PP'"
      ],
      "execution_count": 0,
      "outputs": []
    },
    {
      "cell_type": "code",
      "metadata": {
        "id": "giDYPtYB26xe",
        "colab_type": "code",
        "colab": {}
      },
      "source": [
        "#@title initialize CEM explainer and explain instance\n",
        "cem = CEM(cnn, mode, shape, kappa=kappa, beta=beta, feature_range=feature_range, \n",
        "          gamma=gamma, ae_model=ae, max_iterations=max_iterations, \n",
        "          c_init=c_init, c_steps=c_steps, learning_rate_init=lr, clip=clip, no_info_val=no_info_val)\n",
        "\n",
        "explanation = cem.explain(X)"
      ],
      "execution_count": 0,
      "outputs": []
    },
    {
      "cell_type": "code",
      "metadata": {
        "id": "hnz-m3OO3CAo",
        "colab_type": "code",
        "outputId": "f4f31067-beaf-48d1-f3ee-70904dba3dc6",
        "colab": {
          "base_uri": "https://localhost:8080/",
          "height": 282
        }
      },
      "source": [
        "#@title Pertinent postive\n",
        "print('Pertinent positive prediction: {}'.format(explanation.PP_pred))\n",
        "plt.imshow(explanation.PP.reshape(28, 28));"
      ],
      "execution_count": 80,
      "outputs": [
        {
          "output_type": "stream",
          "text": [
            "Pertinent positive prediction: 5\n"
          ],
          "name": "stdout"
        },
        {
          "output_type": "display_data",
          "data": {
            "image/png": "[encoded data removed]",
            "text/plain": [
              "<Figure size 432x288 with 1 Axes>"
            ]
          },
          "metadata": {
            "tags": []
          }
        }
      ]
    }
  ]
}